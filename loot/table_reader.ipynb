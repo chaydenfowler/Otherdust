{
 "cells": [
  {
   "cell_type": "code",
   "execution_count": 1,
   "metadata": {},
   "outputs": [],
   "source": [
    "import pandas as pd"
   ]
  },
  {
   "cell_type": "code",
   "execution_count": 79,
   "metadata": {},
   "outputs": [],
   "source": [
    "# Plunder\n",
    "data = \"\"\"Type Example | Plunder\n",
    "P1 Impoverished Rabble | Weapon (1d6), Armor (1d6), 50% chance of 1 Ration, 50% chance of Random Loot\n",
    "P2 Raider/Tribal Warrior | Weapon (1d6+4), Armor (1d6+4), 1 Ration, 25% chance of Random Loot+3\n",
    "P3 Elite Warrior | Weapon (1d6+6), Armor (1d6+6), 1d4 Rations, 50% chance of Random Loot+5\n",
    "P4 Tribal Chieftain | Weapon (1d6+10), Armor (1d8+8), Random Loot+10\n",
    "P5 TL3 Warrior/Raider | Weapon(1d6+12), Armor(1d6+1), 50% chance of Random Loot+5\n",
    "P6 TL4 Common Citizen | Laser Pistol, Old Terran Clothing, 50% chance of Random Loot+5\n",
    "P7 TL4 Gunman | Weapon (1d6+20), Armor (1d4+18), 50% chance of Random Loot+10\n",
    "P8 TL4 Beamgunner | Energy Weapon (1d4+2), Armor (1d4+18), 50% chance of Random Loot+12\n",
    "P9 TL4 Elite Soldier | Energy Weapon (1d6+6), Armor(1d6+18), 50% chance of Random Loot+12\n",
    "P10 TL4 Champion | Energy Weapon (1d4+10), Armor (1d6+20), Random Loot+20\n",
    "G1 Animal Nest | 50% chance of Weapon (1d10), 50% chance of Armor (1d10), 50% chance of Random Loot\n",
    "G2 Armory, Mandate | 1d6 Energy Weapons (1d10+4), 1d6 suits of Harmony Armor, 50% chance of Armor (1d8+18), 1d6 TL4 Spare Parts, 50% chance of 1d6 TL5 Spare Parts, 2d6 Type A Power Cells\n",
    "G3 Armory, Raider | 1d6 Weapons (1d10+2), 50% chance of Weapon (1d6+9), 1d6 suits of Armor (1d10+3), 1d6 TL2 Spare Parts, 1d4 x 20 rounds of ammo\n",
    "G4 Armory, Rebel | 1d6 Weapons (1d10+10), 50% Chance of 1d4 Energy Weapons (1d8), 1d6 suits of Insurgent Combat Shell, 1d6 TL3 Spare Parts, 1d6 x 20 rounds of ammo\n",
    "G5 Camp, Small Raider | 1d3 Weapons (1d10+2), 1d4 Random Loot+3, 1 Random Loot+10, 50% Chance of 20 rounds of ammo, 50% chance of 1d4 Type A Power Cell\n",
    "G6 Camp, Small Tribal | 1d3 Weapons (1d10), 1d4 Random Loot+3, 1 Random Loot+5, 25% Chance of 20 rounds of ammo, 25% chance of 1d4 Type A Power Cell\n",
    "G7 Enclave Plunder, TL1 | 2d6 Weapons (1d10), 2d6 Armor (1d8+2), 2d6 Random Loot, 1d6 Random Loot+5, 1d4 x 20 rounds of ammo, 1d4 Type A Power Cells, 10% chance of one Rare Item, 1d10x10 rations\n",
    "G8 Enclave Plunder, TL2 | 2d6 Weapons (1d6+8), 2d6 Armor (1d10+4), 3d6 Random Loot, 1d6 Random Loot+10, 3d6 x 20 rounds of ammo, 2d6 Type A Power Cells, 25% chance of one Rare Item, 1d20x10 rations\n",
    "G9 Enclave Plunder, TL3 | 2d6 Weapons (1d6+8), 2d6 Armor (1d10+4), 3d6 Random Loot, 1d6 Random Loot+10, 3d6 x 20 rounds of ammo, 2d6 Type A Power Cells, 25% chance of one Rare Item, 1d10x20 rations\n",
    "G10 Enclave Plunder, TL4 | 2d6 Weapons (1d6+14), 2d6 Armor (1d10+10), 3d6 Random Loot+5, 1d6 Random Loot+15, 3d6 x 20 rounds of ammo, 2d6 x 5 Type A Power Cells, 1d4 Rare Items, 2d20x20 rations\n",
    "G11 Medical Cache, Major | 1d10+10 Stims, 1d4 Medkits\n",
    "G12 Medical Cache, Minor | 1d6 Stims, 50% chance of a Medkit\n",
    "G13 Ruin, Large Structure | 5d6 Random Loot, 1d10 Random Loot+10, 1d4-1 Rare Items, 2d6 TL4 Spare Parts\n",
    "G14 Ruin, Single Building | 3d6 Random Loot, 1d4 Random Loot+10, 20% chance of Random Loot+20, 1d6 TL4 Parts\n",
    "G15 Survival Cache, Enclave | 1d10 Old Terran Rations, 1d6 Random Loot, 50% 1d4 x 20 rounds of ammo, 50% 1d6 Type A\n",
    "G16 Survival Cache, Ancient | 3d8 Old Terran Rations, 1d6 Uncommon Items, 1d6+4 Type A Power Cells\n",
    "G17 Tech Cache, Major | 1d10+10 Spare parts of each TL from 3 to 5, 50% chance of Metatool, 50% chance of one Rare\n",
    "G18 Tech Cache, Minor | 1d10+10 Spare Parts of TL 1d4+1, 50% chance of Random Loot+10\n",
    "G19 Trader Caravan | 1d4 Weapons (1d6+9), 1d4 Armor (1d10+4), 1d6 x 20 rounds of ammo, 1d4 Type A Power Cells, 2 Random Loot+10, 25% chance of Rare Item\n",
    "G20 Workshop, Old Terran | 75% chance of TL4 Toolkit, 25% Chance of TL5 Toolkit, 1d10+15 TL4 Spare Parts, 1d8 TL5 Spare Parts, 2 Random Loot+15 which are Broken\n",
    "G21 Workshop, Scrounger | TL2 Toolkit, 75% chance of TL3 Toolkit, 25% chance of TL4 Toolkit, 1d10+15 TL2 Spare Parts, 1d10+5 TL3 Spare Parts, 1d6 TL4 Spare Parts, 2 Random Loot which are Broken\"\"\""
   ]
  },
  {
   "cell_type": "code",
   "execution_count": 81,
   "metadata": {},
   "outputs": [
    {
     "name": "stdout",
     "output_type": "stream",
     "text": [
      "[['Type', 'Example', ' Plunder'], ['P1', 'ImpoverishedRabble', ' Weapon (1d6), Armor (1d6), 50% chance of 1 Ration, 50% chance of Random Loot'], ['P2', 'Raider/TribalWarrior', ' Weapon (1d6+4), Armor (1d6+4), 1 Ration, 25% chance of Random Loot+3'], ['P3', 'EliteWarrior', ' Weapon (1d6+6), Armor (1d6+6), 1d4 Rations, 50% chance of Random Loot+5'], ['P4', 'TribalChieftain', ' Weapon (1d6+10), Armor (1d8+8), Random Loot+10'], ['P5', 'TL3Warrior/Raider', ' Weapon(1d6+12), Armor(1d6+1), 50% chance of Random Loot+5'], ['P6', 'TL4CommonCitizen', ' Laser Pistol, Old Terran Clothing, 50% chance of Random Loot+5'], ['P7', 'TL4Gunman', ' Weapon (1d6+20), Armor (1d4+18), 50% chance of Random Loot+10'], ['P8', 'TL4Beamgunner', ' Energy Weapon (1d4+2), Armor (1d4+18), 50% chance of Random Loot+12'], ['P9', 'TL4EliteSoldier', ' Energy Weapon (1d6+6), Armor(1d6+18), 50% chance of Random Loot+12'], ['P10', 'TL4Champion', ' Energy Weapon (1d4+10), Armor (1d6+20), Random Loot+20'], ['G1', 'AnimalNest', ' 50% chance of Weapon (1d10), 50% chance of Armor (1d10), 50% chance of Random Loot'], ['G2', 'Armory,Mandate', ' 1d6 Energy Weapons (1d10+4), 1d6 suits of Harmony Armor, 50% chance of Armor (1d8+18), 1d6 TL4 Spare Parts, 50% chance of 1d6 TL5 Spare Parts, 2d6 Type A Power Cells'], ['G3', 'Armory,Raider', ' 1d6 Weapons (1d10+2), 50% chance of Weapon (1d6+9), 1d6 suits of Armor (1d10+3), 1d6 TL2 Spare Parts, 1d4 x 20 rounds of ammo'], ['G4', 'Armory,Rebel', ' 1d6 Weapons (1d10+10), 50% Chance of 1d4 Energy Weapons (1d8), 1d6 suits of Insurgent Combat Shell, 1d6 TL3 Spare Parts, 1d6 x 20 rounds of ammo'], ['G5', 'Camp,SmallRaider', ' 1d3 Weapons (1d10+2), 1d4 Random Loot+3, 1 Random Loot+10, 50% Chance of 20 rounds of ammo, 50% chance of 1d4 Type A Power Cell'], ['G6', 'Camp,SmallTribal', ' 1d3 Weapons (1d10), 1d4 Random Loot+3, 1 Random Loot+5, 25% Chance of 20 rounds of ammo, 25% chance of 1d4 Type A Power Cell'], ['G7', 'EnclavePlunder,TL1', ' 2d6 Weapons (1d10), 2d6 Armor (1d8+2), 2d6 Random Loot, 1d6 Random Loot+5, 1d4 x 20 rounds of ammo, 1d4 Type A Power Cells, 10% chance of one Rare Item, 1d10x10 rations'], ['G8', 'EnclavePlunder,TL2', ' 2d6 Weapons (1d6+8), 2d6 Armor (1d10+4), 3d6 Random Loot, 1d6 Random Loot+10, 3d6 x 20 rounds of ammo, 2d6 Type A Power Cells, 25% chance of one Rare Item, 1d20x10 rations'], ['G9', 'EnclavePlunder,TL3', ' 2d6 Weapons (1d6+8), 2d6 Armor (1d10+4), 3d6 Random Loot, 1d6 Random Loot+10, 3d6 x 20 rounds of ammo, 2d6 Type A Power Cells, 25% chance of one Rare Item, 1d10x20 rations'], ['G10', 'EnclavePlunder,TL4', ' 2d6 Weapons (1d6+14), 2d6 Armor (1d10+10), 3d6 Random Loot+5, 1d6 Random Loot+15, 3d6 x 20 rounds of ammo, 2d6 x 5 Type A Power Cells, 1d4 Rare Items, 2d20x20 rations'], ['G11', 'MedicalCache,Major', ' 1d10+10 Stims, 1d4 Medkits'], ['G12', 'MedicalCache,Minor', ' 1d6 Stims, 50% chance of a Medkit'], ['G13', 'Ruin,LargeStructure', ' 5d6 Random Loot, 1d10 Random Loot+10, 1d4-1 Rare Items, 2d6 TL4 Spare Parts'], ['G14', 'Ruin,SingleBuilding', ' 3d6 Random Loot, 1d4 Random Loot+10, 20% chance of Random Loot+20, 1d6 TL4 Parts'], ['G15', 'SurvivalCache,Enclave', ' 1d10 Old Terran Rations, 1d6 Random Loot, 50% 1d4 x 20 rounds of ammo, 50% 1d6 Type A'], ['G16', 'SurvivalCache,Ancient', ' 3d8 Old Terran Rations, 1d6 Uncommon Items, 1d6+4 Type A Power Cells'], ['G17', 'TechCache,Major', ' 1d10+10 Spare parts of each TL from 3 to 5, 50% chance of Metatool, 50% chance of one Rare'], ['G18', 'TechCache,Minor', ' 1d10+10 Spare Parts of TL 1d4+1, 50% chance of Random Loot+10'], ['G19', 'TraderCaravan', ' 1d4 Weapons (1d6+9), 1d4 Armor (1d10+4), 1d6 x 20 rounds of ammo, 1d4 Type A Power Cells, 2 Random Loot+10, 25% chance of Rare Item'], ['G20', 'Workshop,OldTerran', ' 75% chance of TL4 Toolkit, 25% Chance of TL5 Toolkit, 1d10+15 TL4 Spare Parts, 1d8 TL5 Spare Parts, 2 Random Loot+15 which are Broken'], ['G21', 'Workshop,Scrounger', ' TL2 Toolkit, 75% chance of TL3 Toolkit, 25% chance of TL4 Toolkit, 1d10+15 TL2 Spare Parts, 1d10+5 TL3 Spare Parts, 1d6 TL4 Spare Parts, 2 Random Loot which are Broken']]\n"
     ]
    }
   ],
   "source": [
    "result = []\n",
    "for item in data.split(\"\\n\"):\n",
    "    splits = item.split(\"|\")\n",
    "    second_split = splits[0].split()\n",
    "    result.append([second_split[0], \"\".join(second_split[1:]), splits[1]])\n",
    "\n",
    "print(result)"
   ]
  },
  {
   "cell_type": "code",
   "execution_count": 82,
   "metadata": {},
   "outputs": [
    {
     "data": {
      "text/plain": [
       "['Type', 'Example', ' Plunder']"
      ]
     },
     "execution_count": 82,
     "metadata": {},
     "output_type": "execute_result"
    }
   ],
   "source": [
    "result[0]"
   ]
  },
  {
   "cell_type": "code",
   "execution_count": 83,
   "metadata": {},
   "outputs": [
    {
     "name": "stdout",
     "output_type": "stream",
     "text": [
      "   Type                Example  \\\n",
      "0    P1     ImpoverishedRabble   \n",
      "1    P2   Raider/TribalWarrior   \n",
      "2    P3           EliteWarrior   \n",
      "3    P4        TribalChieftain   \n",
      "4    P5      TL3Warrior/Raider   \n",
      "5    P6       TL4CommonCitizen   \n",
      "6    P7              TL4Gunman   \n",
      "7    P8          TL4Beamgunner   \n",
      "8    P9        TL4EliteSoldier   \n",
      "9   P10            TL4Champion   \n",
      "10   G1             AnimalNest   \n",
      "11   G2         Armory,Mandate   \n",
      "12   G3          Armory,Raider   \n",
      "13   G4           Armory,Rebel   \n",
      "14   G5       Camp,SmallRaider   \n",
      "15   G6       Camp,SmallTribal   \n",
      "16   G7     EnclavePlunder,TL1   \n",
      "17   G8     EnclavePlunder,TL2   \n",
      "18   G9     EnclavePlunder,TL3   \n",
      "19  G10     EnclavePlunder,TL4   \n",
      "20  G11     MedicalCache,Major   \n",
      "21  G12     MedicalCache,Minor   \n",
      "22  G13    Ruin,LargeStructure   \n",
      "23  G14    Ruin,SingleBuilding   \n",
      "24  G15  SurvivalCache,Enclave   \n",
      "25  G16  SurvivalCache,Ancient   \n",
      "26  G17        TechCache,Major   \n",
      "27  G18        TechCache,Minor   \n",
      "28  G19          TraderCaravan   \n",
      "29  G20     Workshop,OldTerran   \n",
      "30  G21     Workshop,Scrounger   \n",
      "\n",
      "                                              Plunder  \n",
      "0    Weapon (1d6), Armor (1d6), 50% chance of 1 Ra...  \n",
      "1    Weapon (1d6+4), Armor (1d6+4), 1 Ration, 25% ...  \n",
      "2    Weapon (1d6+6), Armor (1d6+6), 1d4 Rations, 5...  \n",
      "3      Weapon (1d6+10), Armor (1d8+8), Random Loot+10  \n",
      "4    Weapon(1d6+12), Armor(1d6+1), 50% chance of R...  \n",
      "5    Laser Pistol, Old Terran Clothing, 50% chance...  \n",
      "6    Weapon (1d6+20), Armor (1d4+18), 50% chance o...  \n",
      "7    Energy Weapon (1d4+2), Armor (1d4+18), 50% ch...  \n",
      "8    Energy Weapon (1d6+6), Armor(1d6+18), 50% cha...  \n",
      "9    Energy Weapon (1d4+10), Armor (1d6+20), Rando...  \n",
      "10   50% chance of Weapon (1d10), 50% chance of Ar...  \n",
      "11   1d6 Energy Weapons (1d10+4), 1d6 suits of Har...  \n",
      "12   1d6 Weapons (1d10+2), 50% chance of Weapon (1...  \n",
      "13   1d6 Weapons (1d10+10), 50% Chance of 1d4 Ener...  \n",
      "14   1d3 Weapons (1d10+2), 1d4 Random Loot+3, 1 Ra...  \n",
      "15   1d3 Weapons (1d10), 1d4 Random Loot+3, 1 Rand...  \n",
      "16   2d6 Weapons (1d10), 2d6 Armor (1d8+2), 2d6 Ra...  \n",
      "17   2d6 Weapons (1d6+8), 2d6 Armor (1d10+4), 3d6 ...  \n",
      "18   2d6 Weapons (1d6+8), 2d6 Armor (1d10+4), 3d6 ...  \n",
      "19   2d6 Weapons (1d6+14), 2d6 Armor (1d10+10), 3d...  \n",
      "20                         1d10+10 Stims, 1d4 Medkits  \n",
      "21                  1d6 Stims, 50% chance of a Medkit  \n",
      "22   5d6 Random Loot, 1d10 Random Loot+10, 1d4-1 R...  \n",
      "23   3d6 Random Loot, 1d4 Random Loot+10, 20% chan...  \n",
      "24   1d10 Old Terran Rations, 1d6 Random Loot, 50%...  \n",
      "25   3d8 Old Terran Rations, 1d6 Uncommon Items, 1...  \n",
      "26   1d10+10 Spare parts of each TL from 3 to 5, 5...  \n",
      "27   1d10+10 Spare Parts of TL 1d4+1, 50% chance o...  \n",
      "28   1d4 Weapons (1d6+9), 1d4 Armor (1d10+4), 1d6 ...  \n",
      "29   75% chance of TL4 Toolkit, 25% Chance of TL5 ...  \n",
      "30   TL2 Toolkit, 75% chance of TL3 Toolkit, 25% c...  \n"
     ]
    }
   ],
   "source": [
    "df = pd.DataFrame(result[1:], columns=result[0])\n",
    "print(df)"
   ]
  },
  {
   "cell_type": "code",
   "execution_count": 84,
   "metadata": {},
   "outputs": [],
   "source": [
    "df.to_csv(\"plunder.csv\")"
   ]
  },
  {
   "cell_type": "code",
   "execution_count": null,
   "metadata": {},
   "outputs": [],
   "source": []
  }
 ],
 "metadata": {
  "kernelspec": {
   "display_name": "Python 3",
   "language": "python",
   "name": "python3"
  },
  "language_info": {
   "codemirror_mode": {
    "name": "ipython",
    "version": 3
   },
   "file_extension": ".py",
   "mimetype": "text/x-python",
   "name": "python",
   "nbconvert_exporter": "python",
   "pygments_lexer": "ipython3",
   "version": "3.7.7"
  }
 },
 "nbformat": 4,
 "nbformat_minor": 4
}
