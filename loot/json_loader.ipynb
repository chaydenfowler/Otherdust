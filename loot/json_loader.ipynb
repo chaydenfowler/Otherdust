{
 "cells": [
  {
   "cell_type": "code",
   "execution_count": 90,
   "metadata": {},
   "outputs": [],
   "source": [
    "import json\n",
    "import pandas as pd\n",
    "import re\n",
    "import random\n",
    "import dice\n",
    "import jsonpickle\n",
    "\n",
    "import jsonpickle.ext.pandas as jsonpickle_pandas\n",
    "jsonpickle_pandas.register_handlers()"
   ]
  },
  {
   "cell_type": "code",
   "execution_count": 116,
   "metadata": {},
   "outputs": [],
   "source": [
    "class RangeDict(dict):\n",
    "    def __getitem__(self, item):\n",
    "        if not isinstance(item, range):\n",
    "            for key in self:\n",
    "                if item in key:\n",
    "                    return self[key]\n",
    "            raise KeyError(item)\n",
    "        else:\n",
    "            return super().__getitem__(item)\n",
    "\n",
    "        \n",
    "class Plunder_Table:\n",
    "    # A collection of multiple entries via dict keys\n",
    "    def __init__(self, entries=None, entry_keys=None, examples=None):\n",
    "        self.entries = {key: entry for key,entry in zip(entry_keys, entries)}\n",
    "        self.examples = {key: example for key,example in zip(entry_keys, examples)}\n",
    "        \n",
    "    def __str__(self):\n",
    "        return \"\\n\".join([f\"{key} {entry}\" for key,entry in self.entries.items()])\n",
    "    \n",
    "    def roll(self, roll):\n",
    "        return self.entries[roll]\n",
    "        \n",
    "        \n",
    "class Table:\n",
    "    # A collection of multiple entries via range dicts\n",
    "    def __init__(self, entries=None, entry_ranges=None):\n",
    "        self.entries = RangeDict({range(key[0], key[1]): entry for key,entry in zip(entry_ranges, entries)})\n",
    "        \n",
    "    def __str__(self):\n",
    "        return \"\\n\".join([f\"{key} {entry}\" for key,entry in self.entries.items()])\n",
    "    \n",
    "    def roll(self, roll):\n",
    "        return self.entries[roll]\n",
    "\n",
    "    \n",
    "class Entry:\n",
    "    # A collection of multiple items\n",
    "    def __init__(self, items):\n",
    "        self.items = items.copy()\n",
    "        \n",
    "    def __str__(self):\n",
    "        return \", \".join([str(item) for item in self.items])\n",
    "\n",
    "    \n",
    "class Item:\n",
    "    def __init__(self, name, chance=None, num_items=1, table_roll=None, condition=None):\n",
    "        # name can be item name or table reference\n",
    "        self.name = name\n",
    "        self.chance = chance\n",
    "        self.num_items = num_items\n",
    "        self.table_roll = table_roll\n",
    "        self.condition = condition\n",
    "        \n",
    "    def __str__(self):\n",
    "        return (f'{self.num_items}{\" \"+self.condition if self.condition is not None else \"\"} '\n",
    "                f'{self.name}{\" \"+self.table_roll if self.table_roll is not None else \"\"}')\n",
    "        \n",
    "    def collapse_rolls():\n",
    "        # return new item in collapsed form\n",
    "        # roll num items if not int\n",
    "        # roll on tables for each item\n",
    "        pass"
   ]
  },
  {
   "cell_type": "code",
   "execution_count": 117,
   "metadata": {},
   "outputs": [
    {
     "name": "stdout",
     "output_type": "stream",
     "text": [
      "range(1, 5) 1 gun\n",
      "range(6, 7) 1 sword, 1 knife\n",
      "range(8, 8) 1 gun, 1 sword, 1 knife\n"
     ]
    }
   ],
   "source": [
    "items = [Item(k) for k in [\"gun\",\"sword\",\"knife\"]]\n",
    "entry1 = Entry(items[:1])\n",
    "entry2 = Entry(items[1:])\n",
    "entry3 = Entry(items)\n",
    "\n",
    "entries = [entry1, entry2, entry3]\n",
    "entry_ranges = [(1,5),(6,7),(8,8)]\n",
    "\n",
    "tab = Table(entries=entries, entry_ranges=entry_ranges)\n",
    "print(tab)"
   ]
  },
  {
   "cell_type": "code",
   "execution_count": 118,
   "metadata": {},
   "outputs": [],
   "source": [
    "# Roll decoded string from plunder table\n",
    "word_numbers = {\n",
    "    \"one\":1,\n",
    "    \"two\":2,\n",
    "}\n",
    "\n",
    "def decode(plunder, top=False):\n",
    "    items = []\n",
    "    #GROUP_REGEX = re.compile(r\"^(?:(\\d+)\\% chance of )?(\\d(?:d\\d+)?(?:[\\+\\-]\\d+)? )?([^\\(]+)(?:\\((.+)\\))?\",re.I)\n",
    "    #GROUP_REGEX = re.compile(r\"^(?:(\\d+)\\% chance of )?(\\d(?:d\\d+)?(?:[\\+\\-]\\d+)? )?([^\\(\\+]+)(?:[\\(\\+]([^\\)]+))?\",re.I)\n",
    "    GROUP_REGEX = re.compile(r\"^(?:(\\d+)\\% chance of )?(\\d(?:d\\d+)?(?:[\\+\\-]\\d+)? )?(.{2}[^\\(\\+]+)(?:[\\(\\+]([^\\)]+))?\",re.I)\n",
    "    # 1: percent chance of getting, 2: xdx+x of , 3: item on table with roll, 4: (xdx+x) \n",
    "    \n",
    "    \n",
    "    if top:\n",
    "        looper = plunder.split(\",\")\n",
    "    else:\n",
    "        looper = [plunder]\n",
    "\n",
    "    for item in looper:\n",
    "        item = item.strip()\n",
    "        #try:\n",
    "        match = GROUP_REGEX.search(item)\n",
    "        if match is not None:\n",
    "            #drops.append(f\"{match.group(1)}, {match.group(2)}, {match.group(3)}, {match.group(4)}\")\n",
    "            num_items = match.group(2).strip() if match.group(2) is not None else 1\n",
    "            \n",
    "            # If name starts with one or two etc...\n",
    "            name = match.group(3).strip()\n",
    "            if match.group(3).split()[0].strip().lower() in word_numbers:\n",
    "                split = match.group(3).split(\" \", 1)\n",
    "                name = split[1].strip()\n",
    "                num_itmes = num_items * word_numbers[match.group(3).split()[0].strip().lower()]\n",
    "            name = name.lower().rstrip(\"s\")\n",
    "            \n",
    "            table_roll = match.group(4)\n",
    "            if name == \"random loot\":\n",
    "                table_roll = \"1d20\"+(\"+\"+str(table_roll) if table_roll is not None else \"\")\n",
    "            table_roll = str(table_roll) if table_roll is not None else table_roll\n",
    "            chance = match.group(1)\n",
    "            chance = str(chance) if chance is not None else chance\n",
    "            \n",
    "            items.append(Item(str(name), chance=chance, num_items=str(num_items), table_roll=table_roll, condition=None))\n",
    "    \n",
    "    entry = Entry(items)        \n",
    "            \n",
    "    return entry"
   ]
  },
  {
   "cell_type": "code",
   "execution_count": 119,
   "metadata": {
    "scrolled": false
   },
   "outputs": [
    {
     "name": "stdout",
     "output_type": "stream",
     "text": [
      "Index(['Type', 'Example', ' Plunder'], dtype='object')\n",
      "P1 1 weapon 1d6, 1 armor 1d6, 1 ration, 1 random loot 1d20\n",
      "P2 1 weapon 1d6+4, 1 armor 1d6+4, 1 ration, 1 random loot 1d20+3\n",
      "P3 1 weapon 1d6+6, 1 armor 1d6+6, 1d4 ration, 1 random loot 1d20+5\n",
      "P4 1 weapon 1d6+10, 1 armor 1d8+8, 1 random loot 1d20+10\n",
      "P5 1 weapon 1d6+12, 1 armor 1d6+1, 1 random loot 1d20+5\n",
      "P6 1 laser pistol, 1 old terran clothing, 1 random loot 1d20+5\n",
      "P7 1 weapon 1d6+20, 1 armor 1d4+18, 1 random loot 1d20+10\n",
      "P8 1 energy weapon 1d4+2, 1 armor 1d4+18, 1 random loot 1d20+12\n",
      "P9 1 energy weapon 1d6+6, 1 armor 1d6+18, 1 random loot 1d20+12\n",
      "P10 1 energy weapon 1d4+10, 1 armor 1d6+20, 1 random loot 1d20+20\n",
      "G1 1 weapon 1d10, 1 armor 1d10, 1 random loot 1d20\n",
      "G2 1d6 energy weapon 1d10+4, 1d6 suits of harmony armor, 1 armor 1d8+18, 1d6 tl4 spare part, 1d6 tl5 spare part, 2d6 type a power cell\n",
      "G3 1d6 weapon 1d10+2, 1 weapon 1d6+9, 1d6 armor 1d10+3, 1d6 tl2 spare part, 1d4 x 20 rounds of ammo\n",
      "G4 1d6 weapon 1d10+10, 1d4 energy weapon 1d8, 1d6 suits of insurgent combat shell, 1d6 tl3 spare part, 1d6 x 20 rounds of ammo\n",
      "G5 1d3 weapon 1d10+2, 1d4 random loot 1d20+3, 1 random loot 1d20+10, 1 20 rounds of ammo, 1d4 type a power cell\n",
      "G6 1d3 weapon 1d10, 1d4 random loot 1d20+3, 1 random loot 1d20+5, 1 20 rounds of ammo, 1d4 type a power cell\n",
      "G7 2d6 weapon 1d10, 2d6 armor 1d8+2, 2d6 random loot 1d20, 1d6 random loot 1d20+5, 1d4 x 20 rounds of ammo, 1d4 type a power cell, 1 rare item, 1 1d10x10 ration\n",
      "G8 2d6 weapon 1d6+8, 2d6 armor 1d10+4, 3d6 random loot 1d20, 1d6 random loot 1d20+10, 3d6 x 20 rounds of ammo, 2d6 type a power cell, 1 rare item, 1 1d20x10 ration\n",
      "G9 2d6 weapon 1d6+8, 2d6 armor 1d10+4, 3d6 random loot 1d20, 1d6 random loot 1d20+10, 3d6 x 20 rounds of ammo, 2d6 type a power cell, 1 rare item, 1 1d10x20 ration\n",
      "G10 2d6 weapon 1d6+14, 2d6 armor 1d10+10, 3d6 random loot 1d20+5, 1d6 random loot 1d20+15, 3d6 x 20 rounds of ammo, 2d6 x 5 type a power cell, 1d4 rare item, 1 2d20x20 ration\n",
      "G11 1d10+10 stim, 1d4 medkit\n",
      "G12 1d6 stim, 1 a medkit\n",
      "G13 5d6 random loot 1d20, 1d10 random loot 1d20+10, 1d4-1 rare item, 2d6 tl4 spare part\n",
      "G14 3d6 random loot 1d20, 1d4 random loot 1d20+10, 1 random loot 1d20+20, 1d6 tl4 part\n",
      "G15 1d10 old terran ration, 1d6 random loot 1d20, 1 50% 1d4 x 20 rounds of ammo, 1 50% 1d6 type a\n",
      "G16 3d8 old terran ration, 1d6 uncommon item, 1d6+4 type a power cell\n",
      "G17 1d10+10 spare parts of each tl from 3 to 5, 1 metatool, 1 rare\n",
      "G18 1d10+10 spare parts of tl 1d4 1, 1 random loot 1d20+10\n",
      "G19 1d4 weapon 1d6+9, 1d4 armor 1d10+4, 1d6 x 20 rounds of ammo, 1d4 type a power cell, 2 random loot 1d20+10, 1 rare item\n",
      "G20 1 tl4 toolkit, 1 tl5 toolkit, 1d10+15 tl4 spare part, 1d8 tl5 spare part, 1 following are broken:, 2 random loot 1d20+15\n",
      "G21 1 tl2 toolkit, 1 tl3 toolkit, 1 tl4 toolkit, 1d10+15 tl2 spare part, 1d10+5 tl3 spare part, 1d6 tl4 spare part, 1 following are broken:, 2 random loot 1d20\n"
     ]
    }
   ],
   "source": [
    "df_plunder = pd.read_csv(\"tables/plunder.csv\").iloc[:, 1:]\n",
    "print(df_plunder.columns)\n",
    "\n",
    "entries = []\n",
    "for line in df_plunder[\" Plunder\"]:\n",
    "    entries.append(decode(line, top=True))\n",
    "    \n",
    "p_table = Plunder_Table(entries=entries, entry_keys=df_plunder[\"Type\"], examples=df_plunder[\"Example\"])\n",
    "print(p_table)"
   ]
  },
  {
   "cell_type": "code",
   "execution_count": 120,
   "metadata": {},
   "outputs": [
    {
     "data": {
      "text/plain": [
       "20594"
      ]
     },
     "execution_count": 120,
     "metadata": {},
     "output_type": "execute_result"
    }
   ],
   "source": [
    "frozen = jsonpickle.encode(p_table)\n",
    "f = open(\"json/plunder.json\", \"w\")\n",
    "f.write(frozen)"
   ]
  },
  {
   "cell_type": "code",
   "execution_count": 121,
   "metadata": {},
   "outputs": [
    {
     "name": "stdout",
     "output_type": "stream",
     "text": [
      "P1 1 weapon 1d6, 1 armor 1d6, 1 ration, 1 random loot 1d20\n",
      "P2 1 weapon 1d6+4, 1 armor 1d6+4, 1 ration, 1 random loot 1d20+3\n",
      "P3 1 weapon 1d6+6, 1 armor 1d6+6, 1d4 ration, 1 random loot 1d20+5\n",
      "P4 1 weapon 1d6+10, 1 armor 1d8+8, 1 random loot 1d20+10\n",
      "P5 1 weapon 1d6+12, 1 armor 1d6+1, 1 random loot 1d20+5\n",
      "P6 1 laser pistol, 1 old terran clothing, 1 random loot 1d20+5\n",
      "P7 1 weapon 1d6+20, 1 armor 1d4+18, 1 random loot 1d20+10\n",
      "P8 1 energy weapon 1d4+2, 1 armor 1d4+18, 1 random loot 1d20+12\n",
      "P9 1 energy weapon 1d6+6, 1 armor 1d6+18, 1 random loot 1d20+12\n",
      "P10 1 energy weapon 1d4+10, 1 armor 1d6+20, 1 random loot 1d20+20\n",
      "G1 1 weapon 1d10, 1 armor 1d10, 1 random loot 1d20\n",
      "G2 1d6 energy weapon 1d10+4, 1d6 suits of harmony armor, 1 armor 1d8+18, 1d6 tl4 spare part, 1d6 tl5 spare part, 2d6 type a power cell\n",
      "G3 1d6 weapon 1d10+2, 1 weapon 1d6+9, 1d6 armor 1d10+3, 1d6 tl2 spare part, 1d4 x 20 rounds of ammo\n",
      "G4 1d6 weapon 1d10+10, 1d4 energy weapon 1d8, 1d6 suits of insurgent combat shell, 1d6 tl3 spare part, 1d6 x 20 rounds of ammo\n",
      "G5 1d3 weapon 1d10+2, 1d4 random loot 1d20+3, 1 random loot 1d20+10, 1 20 rounds of ammo, 1d4 type a power cell\n",
      "G6 1d3 weapon 1d10, 1d4 random loot 1d20+3, 1 random loot 1d20+5, 1 20 rounds of ammo, 1d4 type a power cell\n",
      "G7 2d6 weapon 1d10, 2d6 armor 1d8+2, 2d6 random loot 1d20, 1d6 random loot 1d20+5, 1d4 x 20 rounds of ammo, 1d4 type a power cell, 1 rare item, 1 1d10x10 ration\n",
      "G8 2d6 weapon 1d6+8, 2d6 armor 1d10+4, 3d6 random loot 1d20, 1d6 random loot 1d20+10, 3d6 x 20 rounds of ammo, 2d6 type a power cell, 1 rare item, 1 1d20x10 ration\n",
      "G9 2d6 weapon 1d6+8, 2d6 armor 1d10+4, 3d6 random loot 1d20, 1d6 random loot 1d20+10, 3d6 x 20 rounds of ammo, 2d6 type a power cell, 1 rare item, 1 1d10x20 ration\n",
      "G10 2d6 weapon 1d6+14, 2d6 armor 1d10+10, 3d6 random loot 1d20+5, 1d6 random loot 1d20+15, 3d6 x 20 rounds of ammo, 2d6 x 5 type a power cell, 1d4 rare item, 1 2d20x20 ration\n",
      "G11 1d10+10 stim, 1d4 medkit\n",
      "G12 1d6 stim, 1 a medkit\n",
      "G13 5d6 random loot 1d20, 1d10 random loot 1d20+10, 1d4-1 rare item, 2d6 tl4 spare part\n",
      "G14 3d6 random loot 1d20, 1d4 random loot 1d20+10, 1 random loot 1d20+20, 1d6 tl4 part\n",
      "G15 1d10 old terran ration, 1d6 random loot 1d20, 1 50% 1d4 x 20 rounds of ammo, 1 50% 1d6 type a\n",
      "G16 3d8 old terran ration, 1d6 uncommon item, 1d6+4 type a power cell\n",
      "G17 1d10+10 spare parts of each tl from 3 to 5, 1 metatool, 1 rare\n",
      "G18 1d10+10 spare parts of tl 1d4 1, 1 random loot 1d20+10\n",
      "G19 1d4 weapon 1d6+9, 1d4 armor 1d10+4, 1d6 x 20 rounds of ammo, 1d4 type a power cell, 2 random loot 1d20+10, 1 rare item\n",
      "G20 1 tl4 toolkit, 1 tl5 toolkit, 1d10+15 tl4 spare part, 1d8 tl5 spare part, 1 following are broken:, 2 random loot 1d20+15\n",
      "G21 1 tl2 toolkit, 1 tl3 toolkit, 1 tl4 toolkit, 1d10+15 tl2 spare part, 1d10+5 tl3 spare part, 1d6 tl4 spare part, 1 following are broken:, 2 random loot 1d20\n"
     ]
    }
   ],
   "source": [
    "print(p_table)"
   ]
  },
  {
   "cell_type": "code",
   "execution_count": 131,
   "metadata": {},
   "outputs": [],
   "source": [
    "def get_entry_range(string):\n",
    "    string = string.strip()\n",
    "    string = string.strip(\"+\")\n",
    "    string = string.split(\"-\")\n",
    "    string[-1] = 100 if string[-1] == \"00\" else string[-1]\n",
    "    return (int(string[0]),int(string[-1])+1)"
   ]
  },
  {
   "cell_type": "code",
   "execution_count": 138,
   "metadata": {
    "scrolled": false
   },
   "outputs": [
    {
     "name": "stdout",
     "output_type": "stream",
     "text": [
      "WEAPON\n",
      "range(1, 2) 1 knife\n",
      "range(2, 3) 1 club\n",
      "range(3, 4) 1 spear\n",
      "range(4, 5) 1 spear\n",
      "range(5, 6) 1 sword\n",
      "range(6, 7) 1 axe\n",
      "range(7, 8) 1 breechloading rifle\n",
      "range(8, 9) 1 spear\n",
      "range(9, 10) 1 sword\n",
      "range(10, 11) 1 revolver\n",
      "range(11, 12) 1 revolver\n",
      "range(12, 13) 1 semi-auto pistol\n",
      "range(13, 14) 1 semi-auto rifle\n",
      "range(14, 15) 1 shotgun\n",
      "range(15, 16) 1 monoblade\n",
      "range(16, 17) 1 submachine gun\n",
      "range(17, 18) 1 combat rifle\n",
      "range(18, 19) 1 monoblade\n",
      "range(19, 20) 1 combat rifle\n",
      "range(20, 21) 1 combat shotgun\n",
      "range(21, 22) 1 huge monoblade\n",
      "range(22, 23) 1 combat rifle\n",
      "range(23, 24) 1 mag pistol\n",
      "range(24, 25) 1 mag pistol\n",
      "range(25, 26) 1 mag rifle\n",
      "range(26, 27) 1 mag rifle\n"
     ]
    }
   ],
   "source": [
    "# import csv's\n",
    "df_armor = pd.read_csv(\"tables/armor.csv\").iloc[:, 1:]\n",
    "df_common_items = pd.read_csv(\"tables/common_items.csv\").iloc[:, 1:]\n",
    "df_energy_weapon = pd.read_csv(\"tables/energy_weapon.csv\").iloc[:, 1:]\n",
    "df_equipment_wear = pd.read_csv(\"tables/equipment_wear.csv\").iloc[:, 1:]\n",
    "df_item_quirks = pd.read_csv(\"tables/item_quirks.csv\").iloc[:, 1:]\n",
    "df_plunder = pd.read_csv(\"tables/plunder.csv\").iloc[:, 1:]\n",
    "df_random_loot = pd.read_csv(\"tables/random_loot.csv\").iloc[:, 1:]\n",
    "df_rare_items = pd.read_csv(\"tables/rare_items.csv\").iloc[:, 1:]\n",
    "df_uncommon_items = pd.read_csv(\"tables/uncommon_items.csv\").iloc[:, 1:]\n",
    "df_weapon = pd.read_csv(\"tables/weapon.csv\").iloc[:, 1:]\n",
    "\n",
    "tables = {\n",
    "    \"armor\":df_armor,\n",
    "    \"common item\":df_common_items,\n",
    "    \"energy weapon\":df_energy_weapon,\n",
    "    \"equipment wear\":df_equipment_wear,\n",
    "    \"item quirk\":df_item_quirks,\n",
    "    #\"plunder\":df_plunder,\n",
    "    \"random loot\":df_random_loot,\n",
    "    \"rare item\":df_rare_items,\n",
    "    \"uncommon item\":df_uncommon_items,\n",
    "    \"weapon\":df_weapon\n",
    "}\n",
    "\n",
    "#for key,table in tables.items():\n",
    "if True:\n",
    "    key = \"weapon\"\n",
    "    table = df_weapon\n",
    "    \n",
    "    print(key.upper())\n",
    "    entries = []\n",
    "    entry_ranges = []\n",
    "    for index, row in table.iterrows():\n",
    "        entries.append(decode(row[1], top=False))\n",
    "        entry_ranges.append(get_entry_range(str(row[0])))\n",
    "    t_table = Table(entries=entries, entry_ranges=entry_ranges)\n",
    "    print(t_table)\n",
    "    #print(t_table)\n",
    "    #p_table = Plunder_Table(entries=entries, entry_keys=df_plunder[\"Type\"], examples=df_plunder[\"Example\"])\n",
    "    \n",
    "    frozen = jsonpickle.encode(t_table)\n",
    "    f = open(f\"json/{'_'.join(key.split())}.json\", \"w\")\n",
    "    f.write(frozen)"
   ]
  },
  {
   "cell_type": "code",
   "execution_count": null,
   "metadata": {},
   "outputs": [],
   "source": []
  }
 ],
 "metadata": {
  "kernelspec": {
   "display_name": "Python 3",
   "language": "python",
   "name": "python3"
  },
  "language_info": {
   "codemirror_mode": {
    "name": "ipython",
    "version": 3
   },
   "file_extension": ".py",
   "mimetype": "text/x-python",
   "name": "python",
   "nbconvert_exporter": "python",
   "pygments_lexer": "ipython3",
   "version": "3.7.7"
  }
 },
 "nbformat": 4,
 "nbformat_minor": 4
}
