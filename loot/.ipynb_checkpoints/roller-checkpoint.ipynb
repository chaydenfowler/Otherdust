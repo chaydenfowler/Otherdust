{
 "cells": [
  {
   "cell_type": "code",
   "execution_count": 631,
   "metadata": {},
   "outputs": [],
   "source": [
    "import pandas as pd\n",
    "import re\n",
    "import random\n",
    "import dice"
   ]
  },
  {
   "cell_type": "code",
   "execution_count": 632,
   "metadata": {},
   "outputs": [],
   "source": [
    "def rerange(x):\n",
    "    x = str(x)\n",
    "    x = x.strip(\"+\")\n",
    "    x = x.split(\"-\")\n",
    "    #print(x)\n",
    "    #print(range(int(x[0]),int(x[-1])+1))\n",
    "    return range(int(x[0]),int(x[-1])+1)"
   ]
  },
  {
   "cell_type": "code",
   "execution_count": 633,
   "metadata": {},
   "outputs": [],
   "source": [
    "def longify(table):\n",
    "    new_table = table.apply(lambda x: pd.Series(rerange(x.iloc[0])), axis=1)\n",
    "    #print(new_table)\n",
    "    new_table[table.columns[1]] = table[table.columns[1]]\n",
    "    #print(new_table)\n",
    "    #print(new_table.columns)\n",
    "    new_table = new_table.set_index(table.columns[1]).stack().reset_index()\n",
    "    del new_table['level_1']\n",
    "    new_table = new_table.rename(columns={0: table.columns[0]})\n",
    "    new_table = new_table.iloc[:, [1,0]]\n",
    "    new_table.iloc[:,0] = new_table.iloc[:,0].astype(int)\n",
    "    \n",
    "    return new_table"
   ]
  },
  {
   "cell_type": "code",
   "execution_count": 681,
   "metadata": {},
   "outputs": [
    {
     "name": "stderr",
     "output_type": "stream",
     "text": [
      "/Users/cabbage/Documents/Projects/Flask/venv/lib/python3.7/site-packages/ipykernel_launcher.py:2: DeprecationWarning: The default dtype for empty Series will be 'object' instead of 'float64' in a future version. Specify a dtype explicitly to silence this warning.\n",
      "  \n"
     ]
    }
   ],
   "source": [
    "# import csv's\n",
    "df_armor = pd.read_csv(\"tables/armor.csv\").iloc[:, 1:]\n",
    "df_common_items = pd.read_csv(\"tables/common_items.csv\").iloc[:, 1:]\n",
    "df_energy_weapon = pd.read_csv(\"tables/energy_weapon.csv\").iloc[:, 1:]\n",
    "df_equipment_wear = pd.read_csv(\"tables/equipment_wear.csv\").iloc[:, 1:]\n",
    "df_item_quirks = pd.read_csv(\"tables/item_quirks.csv\").iloc[:, 1:]\n",
    "df_plunder = pd.read_csv(\"tables/plunder.csv\").iloc[:, 1:]\n",
    "df_random_loot = pd.read_csv(\"tables/random_loot.csv\").iloc[:, 1:]\n",
    "df_rare_items = pd.read_csv(\"tables/rare_items.csv\").iloc[:, 1:]\n",
    "df_uncommon_items = pd.read_csv(\"tables/uncommon_items.csv\").iloc[:, 1:]\n",
    "df_weapon = pd.read_csv(\"tables/weapon.csv\").iloc[:, 1:]\n",
    "\n",
    "tables = {\n",
    "    \"armor\":df_armor,\n",
    "    \"common item\":df_common_items,\n",
    "    \"energy weapon\":df_energy_weapon,\n",
    "    \"equipment wear\":df_equipment_wear,\n",
    "    \"item quirk\":df_item_quirks,\n",
    "    #\"plunder\":df_plunder,\n",
    "    \"random loot\":df_random_loot,\n",
    "    \"rare item\":df_rare_items,\n",
    "    \"uncommon item\":df_uncommon_items,\n",
    "    \"weapon\":df_weapon\n",
    "}\n",
    "\n",
    "for key,table in tables.items():\n",
    "    tables[key] = longify(table)\n",
    "    del table"
   ]
  },
  {
   "cell_type": "code",
   "execution_count": 742,
   "metadata": {},
   "outputs": [],
   "source": [
    "def roll_table(table, roll):\n",
    "    #print(roll)\n",
    "    roll_result = dice.roll(roll+\"t\")\n",
    "    domain = tables[table]\n",
    "    \n",
    "    #print(domain.columns, roll_result)\n",
    "    if roll_result > len(domain):\n",
    "        plunder_string = domain[domain[domain.columns[0]]==len(domain)][domain.columns[1]].item()\n",
    "    else:\n",
    "        plunder_string = domain[domain[domain.columns[0]]==roll_result][domain.columns[1]].item()\n",
    "    drops = decode(plunder_string)\n",
    "    \n",
    "    return drops"
   ]
  },
  {
   "cell_type": "code",
   "execution_count": 746,
   "metadata": {},
   "outputs": [],
   "source": [
    "# Roll decoded string from plunder table\n",
    "def decode(plunder, top=False):\n",
    "    drops = []\n",
    "    #GROUP_REGEX = re.compile(r\"^(?:(\\d+)\\% chance of )?(\\d(?:d\\d+)?(?:[\\+\\-]\\d+)? )?([^\\(]+)(?:\\((.+)\\))?\",re.I)\n",
    "    #GROUP_REGEX = re.compile(r\"^(?:(\\d+)\\% chance of )?(\\d(?:d\\d+)?(?:[\\+\\-]\\d+)? )?([^\\(\\+]+)(?:[\\(\\+]([^\\)]+))?\",re.I)\n",
    "    GROUP_REGEX = re.compile(r\"^(?:(\\d+)\\% chance of )?(\\d(?:d\\d+)?(?:[\\+\\-]\\d+)? )?(.{2}[^\\(\\+]+)(?:[\\(\\+]([^\\)]+))?\",re.I)\n",
    "    # 1: percent chance of getting, 2: xdx+x of , 3: item on table with roll, 4: (xdx+x) \n",
    "    \n",
    "    if top:\n",
    "        looper = plunder.split(\",\")\n",
    "    else:\n",
    "        looper = [plunder]\n",
    "\n",
    "    for item in looper:\n",
    "        item = item.strip()\n",
    "        #try:\n",
    "        match = GROUP_REGEX.search(item)\n",
    "        if match is not None:\n",
    "            #drops.append(f\"{match.group(1)}, {match.group(2)}, {match.group(3)}, {match.group(4)}\")\n",
    "            \n",
    "            # 1: Percent chances to get item\n",
    "            if match.group(1) is not None:\n",
    "                if random.randint(1,100) > int(match.group(1)):\n",
    "                    drops.append(f\"{match.group(1)}% for {match.group(3).strip()} failed\")\n",
    "                    continue\n",
    "            \n",
    "            \n",
    "            # 2: Can get xdx number of items\n",
    "            num_items = 1 if match.group(2) is None else int(dice.roll(match.group(2)+\"t\"))            \n",
    "            \n",
    "            # 3: If item is Table \n",
    "            table_match = match.group(3).strip().lower().rstrip(\"s\")\n",
    "            if  table_match in tables.keys():\n",
    "                #drops.append(f\"{match.group(3).strip()} found in tables\")\n",
    "                \n",
    "                for i in range(num_items):\n",
    "                    # 4: And there's a roll\n",
    "                    if match.group(4) is not None:\n",
    "                        if table_match == \"random loot\":\n",
    "                            drops.append(roll_table(table_match, \"1d20+\"+match.group(4)))\n",
    "                        else:\n",
    "                            drops.append(roll_table(table_match, match.group(4)))\n",
    "                    else:\n",
    "                        # if random table, roll 1d20, else 1d100\n",
    "                        if table_match == \"random loot\":\n",
    "                            print(\"We should not be here\")\n",
    "                            drops.append(roll_table(table_match, \"1d20\"))\n",
    "                        else:\n",
    "                            drops.append(roll_table(table_match, \"1d100\"))\n",
    "\n",
    "            # No table mentioned, assume item is explicit\n",
    "            else:\n",
    "                drops.append(f\"{str(num_items).strip()} {match.group(3)}\")\n",
    "        #except Exception as e:\n",
    "            #drops.append(f\"{item} caused error {Exception} to occur\")\n",
    "    return \"\\n\".join(drops)"
   ]
  },
  {
   "cell_type": "code",
   "execution_count": 747,
   "metadata": {},
   "outputs": [],
   "source": [
    "# Choose type on plunder table\n",
    "def plunder(ptype):\n",
    "    if ptype not in df_plunder[\"Type\"].unique():\n",
    "        return f\"Type {ptype} does not exist\"\n",
    "    plunder_string = df_plunder[df_plunder[\"Type\"]==ptype][\" Plunder\"].item().strip()\n",
    "    #print(plunder_string)\n",
    "    drops = decode(plunder_string, True)\n",
    "    return \"\\n\".join([ptype, plunder_string, \"\", drops])"
   ]
  },
  {
   "cell_type": "code",
   "execution_count": 748,
   "metadata": {
    "scrolled": false
   },
   "outputs": [
    {
     "name": "stdout",
     "output_type": "stream",
     "text": [
      "G10\n",
      "2d6 Weapons (1d6+14), 2d6 Armor (1d10+10), 3d6 Random Loot+5, 1d6 Random Loot+15, 3d6 x 20 rounds of ammo, 2d6 x 5 Type A Power Cells, 1d4 Rare Items, 2d20x20 rations\n",
      "\n",
      "1 Combat Shotgun\n",
      "1 Monoblade\n",
      "1 Submachine Gun\n",
      "1 Submachine Gun\n",
      "1 Combat Rifle\n",
      "1 Combat Rifle\n",
      "1 Scrap Plate/Shield\n",
      "1 Harmony Armor\n",
      "1 Harmony Armor/Shield\n",
      "1 Two Common Items\n",
      "1 Spear\n",
      "2 Rations, Normal\n",
      "1 Two Common Items\n",
      "1 Toolkit, TL3\n",
      "1 Metatool\n",
      "1 Two Common Items\n",
      "1 +4 Blueprint, TL4\n",
      "1 Two Common Items\n",
      "12 x 20 rounds of ammo\n",
      "10 x 5 Type A Power Cells\n",
      "5 TL5 Spare Parts\n",
      "1 Plasma Projector\n",
      "1 Shear Rifle\n",
      "1 Broadcast Power Mod\n",
      "1 2d20x20 rations\n"
     ]
    }
   ],
   "source": [
    "print(plunder(\"G10\"))"
   ]
  },
  {
   "cell_type": "code",
   "execution_count": 570,
   "metadata": {},
   "outputs": [
    {
     "data": {
      "text/plain": [
       "dict_keys(['armor', 'common items', 'energy weapon', 'equipment wear', 'item quirks', 'random loot', 'rare items', 'uncommon items', 'weapon'])"
      ]
     },
     "execution_count": 570,
     "metadata": {},
     "output_type": "execute_result"
    }
   ],
   "source": [
    "tables.keys()"
   ]
  },
  {
   "cell_type": "code",
   "execution_count": null,
   "metadata": {},
   "outputs": [],
   "source": []
  }
 ],
 "metadata": {
  "kernelspec": {
   "display_name": "Python 3",
   "language": "python",
   "name": "python3"
  },
  "language_info": {
   "codemirror_mode": {
    "name": "ipython",
    "version": 3
   },
   "file_extension": ".py",
   "mimetype": "text/x-python",
   "name": "python",
   "nbconvert_exporter": "python",
   "pygments_lexer": "ipython3",
   "version": "3.7.7"
  }
 },
 "nbformat": 4,
 "nbformat_minor": 4
}
